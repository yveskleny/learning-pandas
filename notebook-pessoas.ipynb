{
 "cells": [
  {
   "cell_type": "code",
   "execution_count": 1,
   "id": "a1a3d350",
   "metadata": {},
   "outputs": [
    {
     "data": {
      "text/html": [
       "<div>\n",
       "<style scoped>\n",
       "    .dataframe tbody tr th:only-of-type {\n",
       "        vertical-align: middle;\n",
       "    }\n",
       "\n",
       "    .dataframe tbody tr th {\n",
       "        vertical-align: top;\n",
       "    }\n",
       "\n",
       "    .dataframe thead th {\n",
       "        text-align: right;\n",
       "    }\n",
       "</style>\n",
       "<table border=\"1\" class=\"dataframe\">\n",
       "  <thead>\n",
       "    <tr style=\"text-align: right;\">\n",
       "      <th></th>\n",
       "      <th>age</th>\n",
       "      <th>gender</th>\n",
       "      <th>income</th>\n",
       "      <th>days_on_platform</th>\n",
       "      <th>city</th>\n",
       "      <th>purchases</th>\n",
       "    </tr>\n",
       "  </thead>\n",
       "  <tbody>\n",
       "    <tr>\n",
       "      <th>0</th>\n",
       "      <td>NaN</td>\n",
       "      <td>Male</td>\n",
       "      <td>126895</td>\n",
       "      <td>14.0</td>\n",
       "      <td>San Francisco</td>\n",
       "      <td>0</td>\n",
       "    </tr>\n",
       "    <tr>\n",
       "      <th>1</th>\n",
       "      <td>NaN</td>\n",
       "      <td>Male</td>\n",
       "      <td>161474</td>\n",
       "      <td>14.0</td>\n",
       "      <td>Tokyo</td>\n",
       "      <td>0</td>\n",
       "    </tr>\n",
       "    <tr>\n",
       "      <th>2</th>\n",
       "      <td>24.0</td>\n",
       "      <td>Male</td>\n",
       "      <td>104723</td>\n",
       "      <td>34.0</td>\n",
       "      <td>London</td>\n",
       "      <td>1</td>\n",
       "    </tr>\n",
       "    <tr>\n",
       "      <th>3</th>\n",
       "      <td>29.0</td>\n",
       "      <td>Male</td>\n",
       "      <td>43791</td>\n",
       "      <td>28.0</td>\n",
       "      <td>London</td>\n",
       "      <td>2</td>\n",
       "    </tr>\n",
       "    <tr>\n",
       "      <th>4</th>\n",
       "      <td>18.0</td>\n",
       "      <td>Female</td>\n",
       "      <td>132181</td>\n",
       "      <td>26.0</td>\n",
       "      <td>London</td>\n",
       "      <td>2</td>\n",
       "    </tr>\n",
       "  </tbody>\n",
       "</table>\n",
       "</div>"
      ],
      "text/plain": [
       "    age  gender  income  days_on_platform           city  purchases\n",
       "0   NaN    Male  126895              14.0  San Francisco          0\n",
       "1   NaN    Male  161474              14.0          Tokyo          0\n",
       "2  24.0    Male  104723              34.0         London          1\n",
       "3  29.0    Male   43791              28.0         London          2\n",
       "4  18.0  Female  132181              26.0         London          2"
      ]
     },
     "execution_count": 1,
     "metadata": {},
     "output_type": "execute_result"
    }
   ],
   "source": [
    "import pandas as pd\n",
    "import numpy as np\n",
    "\n",
    "path = 'dados/person.csv'\n",
    "\n",
    "\n",
    "df = pd.read_csv(path)\n",
    "\n",
    "df = df.drop(columns=['id', 'Unnamed: 0'])\n",
    "df.head()\n"
   ]
  },
  {
   "cell_type": "code",
   "execution_count": 2,
   "id": "1aecb7d1",
   "metadata": {},
   "outputs": [],
   "source": [
    "df = df.rename(columns={\n",
    "    \"age\": \"idade\",\n",
    "    \"gender\": \"genero\",\n",
    "    \"income\": \"renda\",\n",
    "    \"days_on_platform\": \"dias_na_plataforma\",\n",
    "    \"city\": \"cidade\",\n",
    "    \"purchases\": \"compras_realizadas\"\n",
    "    })"
   ]
  },
  {
   "cell_type": "code",
   "execution_count": 3,
   "id": "d7d56a52",
   "metadata": {},
   "outputs": [],
   "source": [
    "df[\"genero\"] = df[\"genero\"].replace({\"Male\": \"M\", \"Female\": \"F\"})\n",
    "df = df.drop(columns=[\"idade\"])\n"
   ]
  },
  {
   "cell_type": "code",
   "execution_count": 4,
   "id": "37810edd",
   "metadata": {},
   "outputs": [
    {
     "data": {
      "text/html": [
       "<div>\n",
       "<style scoped>\n",
       "    .dataframe tbody tr th:only-of-type {\n",
       "        vertical-align: middle;\n",
       "    }\n",
       "\n",
       "    .dataframe tbody tr th {\n",
       "        vertical-align: top;\n",
       "    }\n",
       "\n",
       "    .dataframe thead th {\n",
       "        text-align: right;\n",
       "    }\n",
       "</style>\n",
       "<table border=\"1\" class=\"dataframe\">\n",
       "  <thead>\n",
       "    <tr style=\"text-align: right;\">\n",
       "      <th></th>\n",
       "      <th>genero</th>\n",
       "      <th>renda</th>\n",
       "      <th>dias_na_plataforma</th>\n",
       "      <th>cidade</th>\n",
       "      <th>compras_realizadas</th>\n",
       "    </tr>\n",
       "  </thead>\n",
       "  <tbody>\n",
       "    <tr>\n",
       "      <th>697</th>\n",
       "      <td>M</td>\n",
       "      <td>79483</td>\n",
       "      <td>103.0</td>\n",
       "      <td>San Francisco</td>\n",
       "      <td>0</td>\n",
       "    </tr>\n",
       "    <tr>\n",
       "      <th>1964</th>\n",
       "      <td>F</td>\n",
       "      <td>166648</td>\n",
       "      <td>110.0</td>\n",
       "      <td>London</td>\n",
       "      <td>1</td>\n",
       "    </tr>\n",
       "    <tr>\n",
       "      <th>2020</th>\n",
       "      <td>F</td>\n",
       "      <td>81893</td>\n",
       "      <td>106.0</td>\n",
       "      <td>New York City</td>\n",
       "      <td>1</td>\n",
       "    </tr>\n",
       "    <tr>\n",
       "      <th>2069</th>\n",
       "      <td>M</td>\n",
       "      <td>22932</td>\n",
       "      <td>111.0</td>\n",
       "      <td>London</td>\n",
       "      <td>1</td>\n",
       "    </tr>\n",
       "  </tbody>\n",
       "</table>\n",
       "</div>"
      ],
      "text/plain": [
       "     genero   renda  dias_na_plataforma         cidade  compras_realizadas\n",
       "697       M   79483               103.0  San Francisco                   0\n",
       "1964      F  166648               110.0         London                   1\n",
       "2020      F   81893               106.0  New York City                   1\n",
       "2069      M   22932               111.0         London                   1"
      ]
     },
     "execution_count": 4,
     "metadata": {},
     "output_type": "execute_result"
    }
   ],
   "source": [
    "df[\"dias_na_plataforma\"] = df[\"dias_na_plataforma\"].fillna(0).astype(\"Float64\")\n",
    "df[(df['dias_na_plataforma'] > 100)]"
   ]
  },
  {
   "cell_type": "code",
   "execution_count": 10,
   "id": "6a097459",
   "metadata": {},
   "outputs": [],
   "source": [
    "df.to_csv(\"dados/pessoa.csv\", index=False)"
   ]
  }
 ],
 "metadata": {
  "kernelspec": {
   "display_name": "Python 3",
   "language": "python",
   "name": "python3"
  },
  "language_info": {
   "codemirror_mode": {
    "name": "ipython",
    "version": 3
   },
   "file_extension": ".py",
   "mimetype": "text/x-python",
   "name": "python",
   "nbconvert_exporter": "python",
   "pygments_lexer": "ipython3",
   "version": "3.12.1"
  }
 },
 "nbformat": 4,
 "nbformat_minor": 5
}
