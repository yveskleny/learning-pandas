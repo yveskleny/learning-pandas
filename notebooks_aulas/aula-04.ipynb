{
 "cells": [
  {
   "cell_type": "code",
   "execution_count": 2,
   "id": "6d086a92",
   "metadata": {},
   "outputs": [
    {
     "data": {
      "text/html": [
       "<div>\n",
       "<style scoped>\n",
       "    .dataframe tbody tr th:only-of-type {\n",
       "        vertical-align: middle;\n",
       "    }\n",
       "\n",
       "    .dataframe tbody tr th {\n",
       "        vertical-align: top;\n",
       "    }\n",
       "\n",
       "    .dataframe thead th {\n",
       "        text-align: right;\n",
       "    }\n",
       "</style>\n",
       "<table border=\"1\" class=\"dataframe\">\n",
       "  <thead>\n",
       "    <tr style=\"text-align: right;\">\n",
       "      <th></th>\n",
       "      <th>genero</th>\n",
       "      <th>renda</th>\n",
       "      <th>dias_na_plataforma</th>\n",
       "      <th>cidade</th>\n",
       "      <th>compras_realizadas</th>\n",
       "    </tr>\n",
       "  </thead>\n",
       "  <tbody>\n",
       "    <tr>\n",
       "      <th>0</th>\n",
       "      <td>M</td>\n",
       "      <td>126895</td>\n",
       "      <td>14.0</td>\n",
       "      <td>San Francisco</td>\n",
       "      <td>0</td>\n",
       "    </tr>\n",
       "    <tr>\n",
       "      <th>1</th>\n",
       "      <td>M</td>\n",
       "      <td>161474</td>\n",
       "      <td>14.0</td>\n",
       "      <td>Tokyo</td>\n",
       "      <td>0</td>\n",
       "    </tr>\n",
       "    <tr>\n",
       "      <th>2</th>\n",
       "      <td>M</td>\n",
       "      <td>104723</td>\n",
       "      <td>34.0</td>\n",
       "      <td>London</td>\n",
       "      <td>1</td>\n",
       "    </tr>\n",
       "    <tr>\n",
       "      <th>3</th>\n",
       "      <td>M</td>\n",
       "      <td>43791</td>\n",
       "      <td>28.0</td>\n",
       "      <td>London</td>\n",
       "      <td>2</td>\n",
       "    </tr>\n",
       "    <tr>\n",
       "      <th>4</th>\n",
       "      <td>F</td>\n",
       "      <td>132181</td>\n",
       "      <td>26.0</td>\n",
       "      <td>London</td>\n",
       "      <td>2</td>\n",
       "    </tr>\n",
       "  </tbody>\n",
       "</table>\n",
       "</div>"
      ],
      "text/plain": [
       "  genero   renda  dias_na_plataforma         cidade  compras_realizadas\n",
       "0      M  126895                14.0  San Francisco                   0\n",
       "1      M  161474                14.0          Tokyo                   0\n",
       "2      M  104723                34.0         London                   1\n",
       "3      M   43791                28.0         London                   2\n",
       "4      F  132181                26.0         London                   2"
      ]
     },
     "execution_count": 2,
     "metadata": {},
     "output_type": "execute_result"
    }
   ],
   "source": [
    "import pandas as pd\n",
    "df = pd.read_csv(\"../dados/pessoas.csv\")\n",
    "\n",
    "df.head()"
   ]
  },
  {
   "cell_type": "code",
   "execution_count": null,
   "id": "02fc4ac7",
   "metadata": {},
   "outputs": [
    {
     "data": {
      "text/plain": [
       "genero  renda   dias_na_plataforma  cidade         compras_realizadas\n",
       "F       101033  17.0                London         0                     1\n",
       "        101285  36.0                San Francisco  0                     1\n",
       "        101512  38.0                Miami          0                     1\n",
       "        101526  22.0                London         0                     1\n",
       "        102444  33.0                London         0                     1\n",
       "                                                                        ..\n",
       "M       273899  10.0                New York City  0                     1\n",
       "        277639  32.0                London         0                     1\n",
       "        282909  25.0                Miami          0                     1\n",
       "        308439  25.0                New York City  0                     1\n",
       "        364025  35.0                New York City  0                     1\n",
       "Name: count, Length: 604, dtype: int64"
      ]
     },
     "execution_count": 8,
     "metadata": {},
     "output_type": "execute_result"
    }
   ],
   "source": [
    "#df[(df[\"renda\"] > 100000) & (df[\"compras_realizadas\"] == 0)]\n",
    "#df.query(\"renda > 100000 and compras_realizadas == 0\")\n",
    "valor_renda = 100000\n",
    "qtd_compras_realizadas = 0\n",
    "df.query(\"renda > @valor_renda and compras_realizadas == @qtd_compras_realizadas\").value_counts()"
   ]
  }
 ],
 "metadata": {
  "kernelspec": {
   "display_name": "Python 3",
   "language": "python",
   "name": "python3"
  },
  "language_info": {
   "codemirror_mode": {
    "name": "ipython",
    "version": 3
   },
   "file_extension": ".py",
   "mimetype": "text/x-python",
   "name": "python",
   "nbconvert_exporter": "python",
   "pygments_lexer": "ipython3",
   "version": "3.12.1"
  }
 },
 "nbformat": 4,
 "nbformat_minor": 5
}
