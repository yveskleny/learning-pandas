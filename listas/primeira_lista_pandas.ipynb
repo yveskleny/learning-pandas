{
 "cells": [
  {
   "cell_type": "code",
   "execution_count": 1,
   "id": "e22eac45",
   "metadata": {},
   "outputs": [],
   "source": [
    "import pandas as pd"
   ]
  },
  {
   "cell_type": "code",
   "execution_count": 2,
   "id": "d7389064",
   "metadata": {},
   "outputs": [
    {
     "data": {
      "text/html": [
       "<div>\n",
       "<style scoped>\n",
       "    .dataframe tbody tr th:only-of-type {\n",
       "        vertical-align: middle;\n",
       "    }\n",
       "\n",
       "    .dataframe tbody tr th {\n",
       "        vertical-align: top;\n",
       "    }\n",
       "\n",
       "    .dataframe thead th {\n",
       "        text-align: right;\n",
       "    }\n",
       "</style>\n",
       "<table border=\"1\" class=\"dataframe\">\n",
       "  <thead>\n",
       "    <tr style=\"text-align: right;\">\n",
       "      <th></th>\n",
       "      <th>Data</th>\n",
       "      <th>Produto</th>\n",
       "      <th>Categoria</th>\n",
       "      <th>Preco</th>\n",
       "      <th>Quantidade</th>\n",
       "      <th>Vendedor</th>\n",
       "    </tr>\n",
       "  </thead>\n",
       "  <tbody>\n",
       "    <tr>\n",
       "      <th>0</th>\n",
       "      <td>2023-01-05</td>\n",
       "      <td>Teclado</td>\n",
       "      <td>Periféricos</td>\n",
       "      <td>150.0</td>\n",
       "      <td>2</td>\n",
       "      <td>Ana</td>\n",
       "    </tr>\n",
       "    <tr>\n",
       "      <th>1</th>\n",
       "      <td>2023-01-05</td>\n",
       "      <td>Mouse</td>\n",
       "      <td>Periféricos</td>\n",
       "      <td>50.0</td>\n",
       "      <td>3</td>\n",
       "      <td>Ana</td>\n",
       "    </tr>\n",
       "    <tr>\n",
       "      <th>2</th>\n",
       "      <td>2023-01-12</td>\n",
       "      <td>Monitor</td>\n",
       "      <td>Monitores</td>\n",
       "      <td>1200.0</td>\n",
       "      <td>1</td>\n",
       "      <td>Carlos</td>\n",
       "    </tr>\n",
       "    <tr>\n",
       "      <th>3</th>\n",
       "      <td>2023-01-15</td>\n",
       "      <td>Teclado</td>\n",
       "      <td>Periféricos</td>\n",
       "      <td>150.0</td>\n",
       "      <td>1</td>\n",
       "      <td>Beatriz</td>\n",
       "    </tr>\n",
       "    <tr>\n",
       "      <th>4</th>\n",
       "      <td>2023-01-18</td>\n",
       "      <td>Webcam</td>\n",
       "      <td>Acessórios</td>\n",
       "      <td>250.0</td>\n",
       "      <td>2</td>\n",
       "      <td>Carlos</td>\n",
       "    </tr>\n",
       "  </tbody>\n",
       "</table>\n",
       "</div>"
      ],
      "text/plain": [
       "         Data  Produto    Categoria   Preco  Quantidade Vendedor\n",
       "0  2023-01-05  Teclado  Periféricos   150.0           2      Ana\n",
       "1  2023-01-05    Mouse  Periféricos    50.0           3      Ana\n",
       "2  2023-01-12  Monitor    Monitores  1200.0           1   Carlos\n",
       "3  2023-01-15  Teclado  Periféricos   150.0           1  Beatriz\n",
       "4  2023-01-18   Webcam   Acessórios   250.0           2   Carlos"
      ]
     },
     "execution_count": 2,
     "metadata": {},
     "output_type": "execute_result"
    }
   ],
   "source": [
    "path = \"dados.csv\"\n",
    "dados = pd.read_csv(path)\n",
    "dados.head()"
   ]
  },
  {
   "cell_type": "code",
   "execution_count": 3,
   "id": "8bc3e8d8",
   "metadata": {},
   "outputs": [
    {
     "name": "stdout",
     "output_type": "stream",
     "text": [
      "<class 'pandas.core.frame.DataFrame'>\n",
      "RangeIndex: 10 entries, 0 to 9\n",
      "Data columns (total 6 columns):\n",
      " #   Column      Non-Null Count  Dtype  \n",
      "---  ------      --------------  -----  \n",
      " 0   Data        10 non-null     object \n",
      " 1   Produto     10 non-null     object \n",
      " 2   Categoria   10 non-null     object \n",
      " 3   Preco       10 non-null     float64\n",
      " 4   Quantidade  10 non-null     int64  \n",
      " 5   Vendedor    10 non-null     object \n",
      "dtypes: float64(1), int64(1), object(4)\n",
      "memory usage: 612.0+ bytes\n"
     ]
    }
   ],
   "source": [
    "dados.info()"
   ]
  },
  {
   "cell_type": "code",
   "execution_count": 4,
   "id": "2fe68d84",
   "metadata": {},
   "outputs": [
    {
     "data": {
      "text/plain": [
       "0    Teclado\n",
       "1      Mouse\n",
       "2    Monitor\n",
       "3    Teclado\n",
       "4     Webcam\n",
       "5      Mouse\n",
       "6    Monitor\n",
       "7     Webcam\n",
       "8    Headset\n",
       "9    Teclado\n",
       "Name: Produto, dtype: object"
      ]
     },
     "execution_count": 4,
     "metadata": {},
     "output_type": "execute_result"
    }
   ],
   "source": [
    "dados[\"Produto\"]"
   ]
  },
  {
   "cell_type": "code",
   "execution_count": 5,
   "id": "4e09a3e1",
   "metadata": {},
   "outputs": [
    {
     "data": {
      "text/html": [
       "<div>\n",
       "<style scoped>\n",
       "    .dataframe tbody tr th:only-of-type {\n",
       "        vertical-align: middle;\n",
       "    }\n",
       "\n",
       "    .dataframe tbody tr th {\n",
       "        vertical-align: top;\n",
       "    }\n",
       "\n",
       "    .dataframe thead th {\n",
       "        text-align: right;\n",
       "    }\n",
       "</style>\n",
       "<table border=\"1\" class=\"dataframe\">\n",
       "  <thead>\n",
       "    <tr style=\"text-align: right;\">\n",
       "      <th></th>\n",
       "      <th>Data</th>\n",
       "      <th>Produto</th>\n",
       "      <th>Categoria</th>\n",
       "      <th>Preco</th>\n",
       "      <th>Quantidade</th>\n",
       "      <th>Vendedor</th>\n",
       "    </tr>\n",
       "  </thead>\n",
       "  <tbody>\n",
       "    <tr>\n",
       "      <th>0</th>\n",
       "      <td>2023-01-05</td>\n",
       "      <td>Teclado</td>\n",
       "      <td>Periféricos</td>\n",
       "      <td>150.0</td>\n",
       "      <td>2</td>\n",
       "      <td>Ana</td>\n",
       "    </tr>\n",
       "    <tr>\n",
       "      <th>1</th>\n",
       "      <td>2023-01-05</td>\n",
       "      <td>Mouse</td>\n",
       "      <td>Periféricos</td>\n",
       "      <td>50.0</td>\n",
       "      <td>3</td>\n",
       "      <td>Ana</td>\n",
       "    </tr>\n",
       "    <tr>\n",
       "      <th>5</th>\n",
       "      <td>2023-02-02</td>\n",
       "      <td>Mouse</td>\n",
       "      <td>Periféricos</td>\n",
       "      <td>50.0</td>\n",
       "      <td>5</td>\n",
       "      <td>Ana</td>\n",
       "    </tr>\n",
       "    <tr>\n",
       "      <th>8</th>\n",
       "      <td>2023-02-20</td>\n",
       "      <td>Headset</td>\n",
       "      <td>Acessórios</td>\n",
       "      <td>350.0</td>\n",
       "      <td>3</td>\n",
       "      <td>Ana</td>\n",
       "    </tr>\n",
       "  </tbody>\n",
       "</table>\n",
       "</div>"
      ],
      "text/plain": [
       "         Data  Produto    Categoria  Preco  Quantidade Vendedor\n",
       "0  2023-01-05  Teclado  Periféricos  150.0           2      Ana\n",
       "1  2023-01-05    Mouse  Periféricos   50.0           3      Ana\n",
       "5  2023-02-02    Mouse  Periféricos   50.0           5      Ana\n",
       "8  2023-02-20  Headset   Acessórios  350.0           3      Ana"
      ]
     },
     "execution_count": 5,
     "metadata": {},
     "output_type": "execute_result"
    }
   ],
   "source": [
    "dados[dados[\"Vendedor\"] == \"Ana\"]"
   ]
  },
  {
   "cell_type": "code",
   "execution_count": 6,
   "id": "0a86e21c",
   "metadata": {},
   "outputs": [
    {
     "data": {
      "text/html": [
       "<div>\n",
       "<style scoped>\n",
       "    .dataframe tbody tr th:only-of-type {\n",
       "        vertical-align: middle;\n",
       "    }\n",
       "\n",
       "    .dataframe tbody tr th {\n",
       "        vertical-align: top;\n",
       "    }\n",
       "\n",
       "    .dataframe thead th {\n",
       "        text-align: right;\n",
       "    }\n",
       "</style>\n",
       "<table border=\"1\" class=\"dataframe\">\n",
       "  <thead>\n",
       "    <tr style=\"text-align: right;\">\n",
       "      <th></th>\n",
       "      <th>Data</th>\n",
       "      <th>Produto</th>\n",
       "      <th>Categoria</th>\n",
       "      <th>Preco</th>\n",
       "      <th>Quantidade</th>\n",
       "      <th>Vendedor</th>\n",
       "      <th>Total Venda</th>\n",
       "    </tr>\n",
       "  </thead>\n",
       "  <tbody>\n",
       "    <tr>\n",
       "      <th>0</th>\n",
       "      <td>2023-01-05</td>\n",
       "      <td>Teclado</td>\n",
       "      <td>Periféricos</td>\n",
       "      <td>150.0</td>\n",
       "      <td>2</td>\n",
       "      <td>Ana</td>\n",
       "      <td>300.0</td>\n",
       "    </tr>\n",
       "    <tr>\n",
       "      <th>1</th>\n",
       "      <td>2023-01-05</td>\n",
       "      <td>Mouse</td>\n",
       "      <td>Periféricos</td>\n",
       "      <td>50.0</td>\n",
       "      <td>3</td>\n",
       "      <td>Ana</td>\n",
       "      <td>150.0</td>\n",
       "    </tr>\n",
       "    <tr>\n",
       "      <th>2</th>\n",
       "      <td>2023-01-12</td>\n",
       "      <td>Monitor</td>\n",
       "      <td>Monitores</td>\n",
       "      <td>1200.0</td>\n",
       "      <td>1</td>\n",
       "      <td>Carlos</td>\n",
       "      <td>1200.0</td>\n",
       "    </tr>\n",
       "    <tr>\n",
       "      <th>3</th>\n",
       "      <td>2023-01-15</td>\n",
       "      <td>Teclado</td>\n",
       "      <td>Periféricos</td>\n",
       "      <td>150.0</td>\n",
       "      <td>1</td>\n",
       "      <td>Beatriz</td>\n",
       "      <td>150.0</td>\n",
       "    </tr>\n",
       "    <tr>\n",
       "      <th>4</th>\n",
       "      <td>2023-01-18</td>\n",
       "      <td>Webcam</td>\n",
       "      <td>Acessórios</td>\n",
       "      <td>250.0</td>\n",
       "      <td>2</td>\n",
       "      <td>Carlos</td>\n",
       "      <td>500.0</td>\n",
       "    </tr>\n",
       "  </tbody>\n",
       "</table>\n",
       "</div>"
      ],
      "text/plain": [
       "         Data  Produto    Categoria   Preco  Quantidade Vendedor  Total Venda\n",
       "0  2023-01-05  Teclado  Periféricos   150.0           2      Ana        300.0\n",
       "1  2023-01-05    Mouse  Periféricos    50.0           3      Ana        150.0\n",
       "2  2023-01-12  Monitor    Monitores  1200.0           1   Carlos       1200.0\n",
       "3  2023-01-15  Teclado  Periféricos   150.0           1  Beatriz        150.0\n",
       "4  2023-01-18   Webcam   Acessórios   250.0           2   Carlos        500.0"
      ]
     },
     "execution_count": 6,
     "metadata": {},
     "output_type": "execute_result"
    }
   ],
   "source": [
    "dados[\"Total Venda\"] = dados[\"Quantidade\"] * dados[\"Preco\"]\n",
    "dados.head()"
   ]
  },
  {
   "cell_type": "code",
   "execution_count": 7,
   "id": "868dd91e",
   "metadata": {},
   "outputs": [
    {
     "data": {
      "text/plain": [
       "Categoria\n",
       "Acessórios      6\n",
       "Monitores       3\n",
       "Periféricos    13\n",
       "Name: Quantidade, dtype: int64"
      ]
     },
     "execution_count": 7,
     "metadata": {},
     "output_type": "execute_result"
    }
   ],
   "source": [
    "dados.groupby(\"Categoria\")[\"Quantidade\"].sum()"
   ]
  },
  {
   "cell_type": "code",
   "execution_count": 8,
   "id": "c4e436be",
   "metadata": {},
   "outputs": [
    {
     "data": {
      "text/plain": [
       "Vendedor\n",
       "Ana        1750.0\n",
       "Beatriz    2850.0\n",
       "Carlos     1950.0\n",
       "Name: Total Venda, dtype: float64"
      ]
     },
     "execution_count": 8,
     "metadata": {},
     "output_type": "execute_result"
    }
   ],
   "source": [
    "dados.groupby(\"Vendedor\")[\"Total Venda\"].sum()"
   ]
  },
  {
   "cell_type": "code",
   "execution_count": 9,
   "id": "3ae58580",
   "metadata": {},
   "outputs": [
    {
     "data": {
      "text/plain": [
       "'Mouse'"
      ]
     },
     "execution_count": 9,
     "metadata": {},
     "output_type": "execute_result"
    }
   ],
   "source": [
    "quantidade_produtos_vendidos = dados.groupby(\"Produto\")[\"Quantidade\"].sum()\n",
    "quantidade_produtos_vendidos.idxmax()\n"
   ]
  },
  {
   "cell_type": "code",
   "execution_count": 10,
   "id": "7d26f1f4",
   "metadata": {},
   "outputs": [
    {
     "data": {
      "text/html": [
       "<div>\n",
       "<style scoped>\n",
       "    .dataframe tbody tr th:only-of-type {\n",
       "        vertical-align: middle;\n",
       "    }\n",
       "\n",
       "    .dataframe tbody tr th {\n",
       "        vertical-align: top;\n",
       "    }\n",
       "\n",
       "    .dataframe thead th {\n",
       "        text-align: right;\n",
       "    }\n",
       "</style>\n",
       "<table border=\"1\" class=\"dataframe\">\n",
       "  <thead>\n",
       "    <tr style=\"text-align: right;\">\n",
       "      <th></th>\n",
       "      <th>Data</th>\n",
       "      <th>Produto</th>\n",
       "      <th>Categoria</th>\n",
       "      <th>Preco</th>\n",
       "      <th>Quantidade</th>\n",
       "      <th>Vendedor</th>\n",
       "      <th>Total Venda</th>\n",
       "    </tr>\n",
       "  </thead>\n",
       "  <tbody>\n",
       "    <tr>\n",
       "      <th>5</th>\n",
       "      <td>2023-02-02</td>\n",
       "      <td>Mouse</td>\n",
       "      <td>Periféricos</td>\n",
       "      <td>50.0</td>\n",
       "      <td>5</td>\n",
       "      <td>Ana</td>\n",
       "      <td>250.0</td>\n",
       "    </tr>\n",
       "    <tr>\n",
       "      <th>6</th>\n",
       "      <td>2023-02-08</td>\n",
       "      <td>Monitor</td>\n",
       "      <td>Monitores</td>\n",
       "      <td>1200.0</td>\n",
       "      <td>2</td>\n",
       "      <td>Beatriz</td>\n",
       "      <td>2400.0</td>\n",
       "    </tr>\n",
       "    <tr>\n",
       "      <th>7</th>\n",
       "      <td>2023-02-10</td>\n",
       "      <td>Webcam</td>\n",
       "      <td>Acessórios</td>\n",
       "      <td>250.0</td>\n",
       "      <td>1</td>\n",
       "      <td>Carlos</td>\n",
       "      <td>250.0</td>\n",
       "    </tr>\n",
       "    <tr>\n",
       "      <th>8</th>\n",
       "      <td>2023-02-20</td>\n",
       "      <td>Headset</td>\n",
       "      <td>Acessórios</td>\n",
       "      <td>350.0</td>\n",
       "      <td>3</td>\n",
       "      <td>Ana</td>\n",
       "      <td>1050.0</td>\n",
       "    </tr>\n",
       "    <tr>\n",
       "      <th>9</th>\n",
       "      <td>2023-02-25</td>\n",
       "      <td>Teclado</td>\n",
       "      <td>Periféricos</td>\n",
       "      <td>150.0</td>\n",
       "      <td>2</td>\n",
       "      <td>Beatriz</td>\n",
       "      <td>300.0</td>\n",
       "    </tr>\n",
       "  </tbody>\n",
       "</table>\n",
       "</div>"
      ],
      "text/plain": [
       "        Data  Produto    Categoria   Preco  Quantidade Vendedor  Total Venda\n",
       "5 2023-02-02    Mouse  Periféricos    50.0           5      Ana        250.0\n",
       "6 2023-02-08  Monitor    Monitores  1200.0           2  Beatriz       2400.0\n",
       "7 2023-02-10   Webcam   Acessórios   250.0           1   Carlos        250.0\n",
       "8 2023-02-20  Headset   Acessórios   350.0           3      Ana       1050.0\n",
       "9 2023-02-25  Teclado  Periféricos   150.0           2  Beatriz        300.0"
      ]
     },
     "execution_count": 10,
     "metadata": {},
     "output_type": "execute_result"
    }
   ],
   "source": [
    "dados[\"Data\"] = pd.to_datetime(dados[\"Data\"])\n",
    "dados[dados[\"Data\"].dt.month == 2]"
   ]
  },
  {
   "cell_type": "code",
   "execution_count": 11,
   "id": "1d9a5582",
   "metadata": {},
   "outputs": [
    {
     "data": {
      "text/html": [
       "<div>\n",
       "<style scoped>\n",
       "    .dataframe tbody tr th:only-of-type {\n",
       "        vertical-align: middle;\n",
       "    }\n",
       "\n",
       "    .dataframe tbody tr th {\n",
       "        vertical-align: top;\n",
       "    }\n",
       "\n",
       "    .dataframe thead th {\n",
       "        text-align: right;\n",
       "    }\n",
       "</style>\n",
       "<table border=\"1\" class=\"dataframe\">\n",
       "  <thead>\n",
       "    <tr style=\"text-align: right;\">\n",
       "      <th></th>\n",
       "      <th>Data</th>\n",
       "      <th>Produto</th>\n",
       "      <th>Categoria</th>\n",
       "      <th>Preco</th>\n",
       "      <th>Quantidade</th>\n",
       "      <th>Vendedor</th>\n",
       "      <th>Total Venda</th>\n",
       "    </tr>\n",
       "  </thead>\n",
       "  <tbody>\n",
       "    <tr>\n",
       "      <th>2</th>\n",
       "      <td>2023-01-12</td>\n",
       "      <td>Monitor</td>\n",
       "      <td>Monitores</td>\n",
       "      <td>1200.0</td>\n",
       "      <td>1</td>\n",
       "      <td>Carlos</td>\n",
       "      <td>1200.0</td>\n",
       "    </tr>\n",
       "    <tr>\n",
       "      <th>6</th>\n",
       "      <td>2023-02-08</td>\n",
       "      <td>Monitor</td>\n",
       "      <td>Monitores</td>\n",
       "      <td>1200.0</td>\n",
       "      <td>2</td>\n",
       "      <td>Beatriz</td>\n",
       "      <td>2400.0</td>\n",
       "    </tr>\n",
       "    <tr>\n",
       "      <th>8</th>\n",
       "      <td>2023-02-20</td>\n",
       "      <td>Headset</td>\n",
       "      <td>Acessórios</td>\n",
       "      <td>350.0</td>\n",
       "      <td>3</td>\n",
       "      <td>Ana</td>\n",
       "      <td>1050.0</td>\n",
       "    </tr>\n",
       "  </tbody>\n",
       "</table>\n",
       "</div>"
      ],
      "text/plain": [
       "        Data  Produto   Categoria   Preco  Quantidade Vendedor  Total Venda\n",
       "2 2023-01-12  Monitor   Monitores  1200.0           1   Carlos       1200.0\n",
       "6 2023-02-08  Monitor   Monitores  1200.0           2  Beatriz       2400.0\n",
       "8 2023-02-20  Headset  Acessórios   350.0           3      Ana       1050.0"
      ]
     },
     "execution_count": 11,
     "metadata": {},
     "output_type": "execute_result"
    }
   ],
   "source": [
    "produtos_com_total_venda_acima_da_media = dados[dados[\"Total Venda\"] > dados[\"Total Venda\"].mean()]\n",
    "\n",
    "produtos_com_total_venda_acima_da_media"
   ]
  }
 ],
 "metadata": {
  "kernelspec": {
   "display_name": "Python 3",
   "language": "python",
   "name": "python3"
  },
  "language_info": {
   "codemirror_mode": {
    "name": "ipython",
    "version": 3
   },
   "file_extension": ".py",
   "mimetype": "text/x-python",
   "name": "python",
   "nbconvert_exporter": "python",
   "pygments_lexer": "ipython3",
   "version": "3.12.1"
  }
 },
 "nbformat": 4,
 "nbformat_minor": 5
}
