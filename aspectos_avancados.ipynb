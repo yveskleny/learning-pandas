{
 "cells": [
  {
   "cell_type": "code",
   "execution_count": 7,
   "id": "65f6e263",
   "metadata": {},
   "outputs": [
    {
     "data": {
      "text/plain": [
       "[1, 27, 125, 343, 729, 1331, 2197, 3375, 4913, 6859]"
      ]
     },
     "execution_count": 7,
     "metadata": {},
     "output_type": "execute_result"
    }
   ],
   "source": [
    "numeros = [i**3 for i in range(1, 20) if i % 2 != 0]\n",
    "numeros"
   ]
  },
  {
   "cell_type": "code",
   "execution_count": 8,
   "id": "118539a1",
   "metadata": {},
   "outputs": [
    {
     "data": {
      "text/plain": [
       "['FELIPE', 'CARLA', 'MARIO']"
      ]
     },
     "execution_count": 8,
     "metadata": {},
     "output_type": "execute_result"
    }
   ],
   "source": [
    "lista = [\"felipe\", \"ana\", \"carla\", \"mario\"]\n",
    "\n",
    "nova_lista = [nome.upper() for nome in lista if len(nome) > 4]\n",
    "nova_lista\n"
   ]
  },
  {
   "cell_type": "code",
   "execution_count": 9,
   "id": "af8aaa7f",
   "metadata": {},
   "outputs": [
    {
     "data": {
      "text/plain": [
       "{0: 0, 1: 1, 2: 4, 3: 9, 4: 16, 5: 25}"
      ]
     },
     "execution_count": 9,
     "metadata": {},
     "output_type": "execute_result"
    }
   ],
   "source": [
    "quadrado = {i:i**2 for i in range(6)}\n",
    "quadrado"
   ]
  },
  {
   "cell_type": "code",
   "execution_count": 10,
   "id": "d07fde73",
   "metadata": {},
   "outputs": [
    {
     "data": {
      "text/plain": [
       "[0, 1, 8, 27, 64, 125]"
      ]
     },
     "execution_count": 10,
     "metadata": {},
     "output_type": "execute_result"
    }
   ],
   "source": [
    "cubos = list(map(lambda x: x**3, [i for i in range(6)]))\n",
    "cubos"
   ]
  },
  {
   "cell_type": "code",
   "execution_count": 11,
   "id": "b492474d",
   "metadata": {},
   "outputs": [
    {
     "data": {
      "text/plain": [
       "['Ana', 'Alice']"
      ]
     },
     "execution_count": 11,
     "metadata": {},
     "output_type": "execute_result"
    }
   ],
   "source": [
    "nomes = [\"Ana\", \"Bruno\", \"Alice\", \"Marcos\"]\n",
    "nomes_com_a = list(filter(lambda nome: nome[0] == 'A', nomes))\n",
    "nomes_com_a"
   ]
  },
  {
   "cell_type": "code",
   "execution_count": 12,
   "id": "78a24fa8",
   "metadata": {},
   "outputs": [
    {
     "name": "stdout",
     "output_type": "stream",
     "text": [
      "20\n"
     ]
    }
   ],
   "source": [
    "from functools import reduce\n",
    "\n",
    "\n",
    "soma_pares = reduce(lambda x, y: x + y, [i for i in range(10) if i % 2 == 0])\n",
    "print(soma_pares)\n"
   ]
  }
 ],
 "metadata": {
  "kernelspec": {
   "display_name": "Python 3",
   "language": "python",
   "name": "python3"
  },
  "language_info": {
   "codemirror_mode": {
    "name": "ipython",
    "version": 3
   },
   "file_extension": ".py",
   "mimetype": "text/x-python",
   "name": "python",
   "nbconvert_exporter": "python",
   "pygments_lexer": "ipython3",
   "version": "3.12.1"
  }
 },
 "nbformat": 4,
 "nbformat_minor": 5
}
