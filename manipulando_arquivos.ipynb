{
 "cells": [
  {
   "cell_type": "code",
   "execution_count": 5,
   "id": "a0f70384",
   "metadata": {},
   "outputs": [
    {
     "name": "stdout",
     "output_type": "stream",
     "text": [
      "primeira frase de teste\n",
      "outra frase de teste\n",
      "nÃ£o faÃ§o ideia do que escrever\n",
      "meu deus\n",
      "fim\n",
      "fui eu que escrevi\n",
      "nÃ£o usei ia\n",
      "sou uma pessoa honesta\n",
      "fim\n",
      "frase:oaklsnfdlaskdnfg\n",
      "frase:dflkÃ§nahsdlfn\n",
      "frase:sdfasdfa\n",
      "frase:sdfasdf\n",
      "\n"
     ]
    }
   ],
   "source": [
    "with open('arquivo_teste.txt', 'r', encoding='latin1') as file:\n",
    "    conteudo = file.read()\n",
    "    print(conteudo)"
   ]
  },
  {
   "cell_type": "markdown",
   "id": "aefd4fe6",
   "metadata": {},
   "source": [
    "'r' para ler arquivo\n",
    "'w' para escrever\n",
    "'a' para adicionar ao final do arquivo"
   ]
  },
  {
   "cell_type": "code",
   "execution_count": 6,
   "id": "f4bf0849",
   "metadata": {},
   "outputs": [
    {
     "name": "stdout",
     "output_type": "stream",
     "text": [
      "primeira frase de teste\n",
      "outra frase de teste\n",
      "não faço ideia do que escrever\n",
      "meu deus\n",
      "fim\n",
      "fui eu que escrevi\n",
      "não usei ia\n",
      "sou uma pessoa honesta\n",
      "fim\n",
      "frase:oaklsnfdlaskdnfg\n",
      "frase:dflkçnahsdlfn\n",
      "frase:sdfasdfa\n",
      "frase:sdfasdf\n"
     ]
    }
   ],
   "source": [
    "with open('arquivo_teste.txt', 'r', encoding='utf-8') as file:\n",
    "    for linha in file:\n",
    "        print(linha.strip()) # strip() remove espaços em branco extras"
   ]
  },
  {
   "cell_type": "markdown",
   "id": "81c9eb9e",
   "metadata": {},
   "source": [
    "'rb' para ler arquivo binario\n",
    "'wb' para escrever um arquivo binario"
   ]
  },
  {
   "cell_type": "code",
   "execution_count": 7,
   "id": "255711cd",
   "metadata": {},
   "outputs": [],
   "source": [
    "# lista_de_frases = []\n",
    "# while True:\n",
    "#     frase = input(\"Digite uma frase (ou 'sair' para encerrar): \")\n",
    "#     if frase.lower() == 'sair':\n",
    "#         break\n",
    "#     lista_de_frases.append(frase)\n",
    "\n",
    "# with open('arquivo_teste.txt', 'a', encoding='utf-8') as file:\n",
    "#     for frase in lista_de_frases:\n",
    "#         file.write(\"frase:\" + frase + '\\n')\n",
    "\n",
    "# with open('arquivo_teste.txt', 'r', encoding='utf-8') as file:\n",
    "#     conteudo_atualizado = file.read()\n",
    "#     print(conteudo_atualizado)"
   ]
  },
  {
   "cell_type": "code",
   "execution_count": 8,
   "id": "fe38c66e",
   "metadata": {},
   "outputs": [],
   "source": [
    "import json \n",
    "\n",
    "pessoa = {\n",
    "    \"nome\": \"Ana\",\n",
    "    \"idade\": 23,\n",
    "    \"cidades_visitadas\": [\n",
    "        \"Curitiba\",\n",
    "        \"São Paulo\",\n",
    "        \"Londres\"\n",
    "    ]\n",
    "}\n",
    "\n",
    "with open(\"pessoa.json\", \"w\", encoding=\"utf-8\") as arquivo:\n",
    "    json.dump(pessoa, arquivo, ensure_ascii=False, indent=4)\n"
   ]
  },
  {
   "cell_type": "code",
   "execution_count": 11,
   "id": "612cdb6f",
   "metadata": {},
   "outputs": [
    {
     "name": "stdout",
     "output_type": "stream",
     "text": [
      "Curitiba\n"
     ]
    }
   ],
   "source": [
    "\n",
    "with open(\"pessoa.json\", \"r\", encoding=\"utf-8\") as arquivo:\n",
    "    dados = json.load(arquivo)\n",
    "\n",
    "print(dados[\"cidades_visitadas\"][0])"
   ]
  },
  {
   "cell_type": "code",
   "execution_count": null,
   "id": "05277dd8",
   "metadata": {},
   "outputs": [],
   "source": [
    "\n"
   ]
  }
 ],
 "metadata": {
  "kernelspec": {
   "display_name": "Python 3",
   "language": "python",
   "name": "python3"
  },
  "language_info": {
   "codemirror_mode": {
    "name": "ipython",
    "version": 3
   },
   "file_extension": ".py",
   "mimetype": "text/x-python",
   "name": "python",
   "nbconvert_exporter": "python",
   "pygments_lexer": "ipython3",
   "version": "3.12.1"
  }
 },
 "nbformat": 4,
 "nbformat_minor": 5
}
