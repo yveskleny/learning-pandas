{
 "cells": [
  {
   "cell_type": "code",
   "execution_count": 14,
   "id": "2bbd9fde",
   "metadata": {},
   "outputs": [],
   "source": [
    "import os"
   ]
  },
  {
   "cell_type": "code",
   "execution_count": 15,
   "id": "e6de1708",
   "metadata": {},
   "outputs": [],
   "source": [
    "# diretorio_atual = os.getcwd()\n",
    "# print(diretorio_atual)\n",
    "# os.chdir('..')\n",
    "# novo_diretorio = os.getcwd()\n",
    "# print(novo_diretorio)\n",
    "# os.listdir(novo_diretorio)"
   ]
  },
  {
   "cell_type": "code",
   "execution_count": null,
   "id": "3ca3b19a",
   "metadata": {},
   "outputs": [
    {
     "name": "stdout",
     "output_type": "stream",
     "text": [
      "/\n"
     ]
    }
   ],
   "source": [
    "dir_atual = os.getcwd()\n",
    "print(dir_atual)\n",
    "os.chdir()"
   ]
  }
 ],
 "metadata": {
  "kernelspec": {
   "display_name": "Python 3",
   "language": "python",
   "name": "python3"
  },
  "language_info": {
   "codemirror_mode": {
    "name": "ipython",
    "version": 3
   },
   "file_extension": ".py",
   "mimetype": "text/x-python",
   "name": "python",
   "nbconvert_exporter": "python",
   "pygments_lexer": "ipython3",
   "version": "3.12.1"
  }
 },
 "nbformat": 4,
 "nbformat_minor": 5
}
