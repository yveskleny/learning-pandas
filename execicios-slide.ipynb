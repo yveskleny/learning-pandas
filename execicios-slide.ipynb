{
 "cells": [
  {
   "cell_type": "code",
   "execution_count": 3,
   "id": "9a4f1077",
   "metadata": {},
   "outputs": [
    {
     "data": {
      "text/html": [
       "<div>\n",
       "<style scoped>\n",
       "    .dataframe tbody tr th:only-of-type {\n",
       "        vertical-align: middle;\n",
       "    }\n",
       "\n",
       "    .dataframe tbody tr th {\n",
       "        vertical-align: top;\n",
       "    }\n",
       "\n",
       "    .dataframe thead th {\n",
       "        text-align: right;\n",
       "    }\n",
       "</style>\n",
       "<table border=\"1\" class=\"dataframe\">\n",
       "  <thead>\n",
       "    <tr style=\"text-align: right;\">\n",
       "      <th></th>\n",
       "      <th>Cidade</th>\n",
       "      <th>Preco_venda</th>\n",
       "      <th>Dia_semana</th>\n",
       "      <th>Tipo_venda</th>\n",
       "      <th>Desconto</th>\n",
       "      <th>Lucro</th>\n",
       "    </tr>\n",
       "  </thead>\n",
       "  <tbody>\n",
       "    <tr>\n",
       "      <th>0</th>\n",
       "      <td>Curitiba</td>\n",
       "      <td>77.0</td>\n",
       "      <td>Domingo</td>\n",
       "      <td>Remota</td>\n",
       "      <td>Sim</td>\n",
       "      <td>19.24</td>\n",
       "    </tr>\n",
       "    <tr>\n",
       "      <th>1</th>\n",
       "      <td>Porto Alegre</td>\n",
       "      <td>184.0</td>\n",
       "      <td>Quarta</td>\n",
       "      <td>Remota</td>\n",
       "      <td>Sim</td>\n",
       "      <td>88.37</td>\n",
       "    </tr>\n",
       "    <tr>\n",
       "      <th>2</th>\n",
       "      <td>Belo Horizonte</td>\n",
       "      <td>250.0</td>\n",
       "      <td>Sábado</td>\n",
       "      <td>Remota</td>\n",
       "      <td>Não</td>\n",
       "      <td>98.20</td>\n",
       "    </tr>\n",
       "    <tr>\n",
       "      <th>3</th>\n",
       "      <td>Porto Alegre</td>\n",
       "      <td>889.0</td>\n",
       "      <td>Segunda</td>\n",
       "      <td>Remota</td>\n",
       "      <td>Sim</td>\n",
       "      <td>301.78</td>\n",
       "    </tr>\n",
       "    <tr>\n",
       "      <th>4</th>\n",
       "      <td>Porto Alegre</td>\n",
       "      <td>829.0</td>\n",
       "      <td>Quinta</td>\n",
       "      <td>Online</td>\n",
       "      <td>Sim</td>\n",
       "      <td>134.64</td>\n",
       "    </tr>\n",
       "  </tbody>\n",
       "</table>\n",
       "</div>"
      ],
      "text/plain": [
       "           Cidade  Preco_venda Dia_semana Tipo_venda Desconto   Lucro\n",
       "0        Curitiba         77.0    Domingo     Remota      Sim   19.24\n",
       "1    Porto Alegre        184.0     Quarta     Remota      Sim   88.37\n",
       "2  Belo Horizonte        250.0     Sábado     Remota      Não   98.20\n",
       "3    Porto Alegre        889.0    Segunda     Remota      Sim  301.78\n",
       "4    Porto Alegre        829.0     Quinta     Online      Sim  134.64"
      ]
     },
     "execution_count": 3,
     "metadata": {},
     "output_type": "execute_result"
    }
   ],
   "source": [
    "import pandas as pd\n",
    "\n",
    "path = \"dados/vendas_produtos.csv\"\n",
    "\n",
    "df_vendas = pd.read_csv(path)\n",
    "\n",
    "df_vendas.head()"
   ]
  },
  {
   "cell_type": "code",
   "execution_count": 8,
   "id": "0a85b696",
   "metadata": {},
   "outputs": [
    {
     "data": {
      "text/html": [
       "<div>\n",
       "<style scoped>\n",
       "    .dataframe tbody tr th:only-of-type {\n",
       "        vertical-align: middle;\n",
       "    }\n",
       "\n",
       "    .dataframe tbody tr th {\n",
       "        vertical-align: top;\n",
       "    }\n",
       "\n",
       "    .dataframe thead th {\n",
       "        text-align: right;\n",
       "    }\n",
       "</style>\n",
       "<table border=\"1\" class=\"dataframe\">\n",
       "  <thead>\n",
       "    <tr style=\"text-align: right;\">\n",
       "      <th></th>\n",
       "      <th>Cidade</th>\n",
       "      <th>Preco_venda</th>\n",
       "      <th>Dia_semana</th>\n",
       "      <th>Tipo_venda</th>\n",
       "      <th>Desconto</th>\n",
       "      <th>Lucro</th>\n",
       "    </tr>\n",
       "  </thead>\n",
       "  <tbody>\n",
       "    <tr>\n",
       "      <th>36</th>\n",
       "      <td>Belo Horizonte</td>\n",
       "      <td>941.0</td>\n",
       "      <td>Domingo</td>\n",
       "      <td>Online</td>\n",
       "      <td>Não</td>\n",
       "      <td>208.76</td>\n",
       "    </tr>\n",
       "    <tr>\n",
       "      <th>34</th>\n",
       "      <td>Belo Horizonte</td>\n",
       "      <td>907.0</td>\n",
       "      <td>Terça</td>\n",
       "      <td>Online</td>\n",
       "      <td>Não</td>\n",
       "      <td>441.03</td>\n",
       "    </tr>\n",
       "    <tr>\n",
       "      <th>30</th>\n",
       "      <td>Belo Horizonte</td>\n",
       "      <td>844.0</td>\n",
       "      <td>Sábado</td>\n",
       "      <td>Online</td>\n",
       "      <td>Não</td>\n",
       "      <td>289.51</td>\n",
       "    </tr>\n",
       "    <tr>\n",
       "      <th>11</th>\n",
       "      <td>Belo Horizonte</td>\n",
       "      <td>777.0</td>\n",
       "      <td>Sábado</td>\n",
       "      <td>Remota</td>\n",
       "      <td>Não</td>\n",
       "      <td>379.15</td>\n",
       "    </tr>\n",
       "    <tr>\n",
       "      <th>89</th>\n",
       "      <td>Belo Horizonte</td>\n",
       "      <td>759.0</td>\n",
       "      <td>Quinta</td>\n",
       "      <td>Online</td>\n",
       "      <td>Não</td>\n",
       "      <td>219.26</td>\n",
       "    </tr>\n",
       "    <tr>\n",
       "      <th>...</th>\n",
       "      <td>...</td>\n",
       "      <td>...</td>\n",
       "      <td>...</td>\n",
       "      <td>...</td>\n",
       "      <td>...</td>\n",
       "      <td>...</td>\n",
       "    </tr>\n",
       "    <tr>\n",
       "      <th>81</th>\n",
       "      <td>São Paulo</td>\n",
       "      <td>434.0</td>\n",
       "      <td>Domingo</td>\n",
       "      <td>Online</td>\n",
       "      <td>Sim</td>\n",
       "      <td>151.60</td>\n",
       "    </tr>\n",
       "    <tr>\n",
       "      <th>76</th>\n",
       "      <td>São Paulo</td>\n",
       "      <td>397.0</td>\n",
       "      <td>Quinta</td>\n",
       "      <td>Online</td>\n",
       "      <td>Não</td>\n",
       "      <td>162.18</td>\n",
       "    </tr>\n",
       "    <tr>\n",
       "      <th>87</th>\n",
       "      <td>São Paulo</td>\n",
       "      <td>308.0</td>\n",
       "      <td>Terça</td>\n",
       "      <td>Online</td>\n",
       "      <td>Não</td>\n",
       "      <td>109.35</td>\n",
       "    </tr>\n",
       "    <tr>\n",
       "      <th>33</th>\n",
       "      <td>São Paulo</td>\n",
       "      <td>64.0</td>\n",
       "      <td>Quinta</td>\n",
       "      <td>Online</td>\n",
       "      <td>Sim</td>\n",
       "      <td>30.69</td>\n",
       "    </tr>\n",
       "    <tr>\n",
       "      <th>24</th>\n",
       "      <td>São Paulo</td>\n",
       "      <td>54.0</td>\n",
       "      <td>Sábado</td>\n",
       "      <td>Online</td>\n",
       "      <td>Sim</td>\n",
       "      <td>15.25</td>\n",
       "    </tr>\n",
       "  </tbody>\n",
       "</table>\n",
       "<p>100 rows × 6 columns</p>\n",
       "</div>"
      ],
      "text/plain": [
       "            Cidade  Preco_venda Dia_semana Tipo_venda Desconto   Lucro\n",
       "36  Belo Horizonte        941.0    Domingo     Online      Não  208.76\n",
       "34  Belo Horizonte        907.0      Terça     Online      Não  441.03\n",
       "30  Belo Horizonte        844.0     Sábado     Online      Não  289.51\n",
       "11  Belo Horizonte        777.0     Sábado     Remota      Não  379.15\n",
       "89  Belo Horizonte        759.0     Quinta     Online      Não  219.26\n",
       "..             ...          ...        ...        ...      ...     ...\n",
       "81       São Paulo        434.0    Domingo     Online      Sim  151.60\n",
       "76       São Paulo        397.0     Quinta     Online      Não  162.18\n",
       "87       São Paulo        308.0      Terça     Online      Não  109.35\n",
       "33       São Paulo         64.0     Quinta     Online      Sim   30.69\n",
       "24       São Paulo         54.0     Sábado     Online      Sim   15.25\n",
       "\n",
       "[100 rows x 6 columns]"
      ]
     },
     "execution_count": 8,
     "metadata": {},
     "output_type": "execute_result"
    }
   ],
   "source": [
    "df_vendas.sort_values(by=['Cidade', 'Preco_venda'], ascending=[True, False])"
   ]
  },
  {
   "cell_type": "markdown",
   "id": "10d2edd1",
   "metadata": {},
   "source": [
    "### Métodos para realização de cálculos em colunas:\n",
    "- abs: retorna uma lista com os valores absolutos da coluna.\n",
    "- count: conta o número de células da coluna que possuem valores disponíveis.\n",
    "- nunique: conta os valores distintos na coluna.\n",
    "- sum: calcula a soma dos valores da coluna.\n",
    "- min: obtém o menor valor da coluna\n",
    "- max: obtém o maior valor da coluna\n",
    "- mean: calcula a média dos valore da coluna.\n",
    "- median: obtém a mediana dos valores da coluna."
   ]
  },
  {
   "cell_type": "code",
   "execution_count": 16,
   "id": "a443c2db",
   "metadata": {},
   "outputs": [
    {
     "data": {
      "text/html": [
       "<div>\n",
       "<style scoped>\n",
       "    .dataframe tbody tr th:only-of-type {\n",
       "        vertical-align: middle;\n",
       "    }\n",
       "\n",
       "    .dataframe tbody tr th {\n",
       "        vertical-align: top;\n",
       "    }\n",
       "\n",
       "    .dataframe thead th {\n",
       "        text-align: right;\n",
       "    }\n",
       "</style>\n",
       "<table border=\"1\" class=\"dataframe\">\n",
       "  <thead>\n",
       "    <tr style=\"text-align: right;\">\n",
       "      <th></th>\n",
       "      <th>Departamento</th>\n",
       "      <th>Cargo</th>\n",
       "      <th>Nome</th>\n",
       "      <th>Salario</th>\n",
       "      <th>Data_Contratacao</th>\n",
       "      <th>Horas_Diarias</th>\n",
       "    </tr>\n",
       "  </thead>\n",
       "  <tbody>\n",
       "    <tr>\n",
       "      <th>0</th>\n",
       "      <td>Tecnologia</td>\n",
       "      <td>Desenvolvedor Sênior</td>\n",
       "      <td>Sofia Ribeiro</td>\n",
       "      <td>12500.50</td>\n",
       "      <td>2021-03-15</td>\n",
       "      <td>40</td>\n",
       "    </tr>\n",
       "    <tr>\n",
       "      <th>1</th>\n",
       "      <td>Vendas</td>\n",
       "      <td>Gerente de Vendas</td>\n",
       "      <td>Lucas Martins</td>\n",
       "      <td>9800.00</td>\n",
       "      <td>2019-07-22</td>\n",
       "      <td>40</td>\n",
       "    </tr>\n",
       "    <tr>\n",
       "      <th>2</th>\n",
       "      <td>RH</td>\n",
       "      <td>Analista de RH</td>\n",
       "      <td>Julia Almeida</td>\n",
       "      <td>4800.75</td>\n",
       "      <td>2022-01-10</td>\n",
       "      <td>40</td>\n",
       "    </tr>\n",
       "    <tr>\n",
       "      <th>3</th>\n",
       "      <td>Marketing</td>\n",
       "      <td>Especialista em SEO</td>\n",
       "      <td>Mateus Santos</td>\n",
       "      <td>6200.00</td>\n",
       "      <td>2021-11-05</td>\n",
       "      <td>40</td>\n",
       "    </tr>\n",
       "    <tr>\n",
       "      <th>4</th>\n",
       "      <td>Tecnologia</td>\n",
       "      <td>Desenvolvedor Júnior</td>\n",
       "      <td>Isabela Ferreira</td>\n",
       "      <td>4500.00</td>\n",
       "      <td>2023-06-20</td>\n",
       "      <td>40</td>\n",
       "    </tr>\n",
       "  </tbody>\n",
       "</table>\n",
       "</div>"
      ],
      "text/plain": [
       "  Departamento                 Cargo              Nome   Salario  \\\n",
       "0   Tecnologia  Desenvolvedor Sênior     Sofia Ribeiro  12500.50   \n",
       "1       Vendas     Gerente de Vendas     Lucas Martins   9800.00   \n",
       "2           RH        Analista de RH     Julia Almeida   4800.75   \n",
       "3    Marketing   Especialista em SEO     Mateus Santos   6200.00   \n",
       "4   Tecnologia  Desenvolvedor Júnior  Isabela Ferreira   4500.00   \n",
       "\n",
       "  Data_Contratacao  Horas_Diarias  \n",
       "0       2021-03-15             40  \n",
       "1       2019-07-22             40  \n",
       "2       2022-01-10             40  \n",
       "3       2021-11-05             40  \n",
       "4       2023-06-20             40  "
      ]
     },
     "execution_count": 16,
     "metadata": {},
     "output_type": "execute_result"
    }
   ],
   "source": [
    "df_rh = pd.read_csv(\"dados/rh.csv\")\n",
    "df_rh.head()"
   ]
  },
  {
   "cell_type": "code",
   "execution_count": 19,
   "id": "068f93ac",
   "metadata": {},
   "outputs": [
    {
     "name": "stdout",
     "output_type": "stream",
     "text": [
      "Quantidade de funcionarios: 98\n"
     ]
    }
   ],
   "source": [
    "print(f\"Quantidade de funcionarios: {df_rh.Nome.count()}\")"
   ]
  },
  {
   "cell_type": "code",
   "execution_count": 23,
   "id": "a2bac218",
   "metadata": {},
   "outputs": [
    {
     "name": "stdout",
     "output_type": "stream",
     "text": [
      "A folha de pagamento é de R$ 637494.20\n"
     ]
    }
   ],
   "source": [
    "folha_de_pagamento = df_rh.Salario.sum()\n",
    "print(f\"A folha de pagamento é de R$ {folha_de_pagamento:.2f}\")"
   ]
  },
  {
   "cell_type": "code",
   "execution_count": 25,
   "id": "e206e6c0",
   "metadata": {},
   "outputs": [
    {
     "name": "stdout",
     "output_type": "stream",
     "text": [
      "O salário médio da empresa é de R$ 6505.04\n"
     ]
    }
   ],
   "source": [
    "salario_medio = df_rh[\"Salario\"].mean()\n",
    "print(f\"O salário médio da empresa é de R$ {salario_medio:.2f}\")"
   ]
  },
  {
   "cell_type": "code",
   "execution_count": 27,
   "id": "49ea56a9",
   "metadata": {},
   "outputs": [
    {
     "name": "stdout",
     "output_type": "stream",
     "text": [
      "O menor salário da empresa é de R$ 1500.00\n"
     ]
    }
   ],
   "source": [
    "menor_salario = df_rh[\"Salario\"].min()\n",
    "print(f\"O menor salário da empresa é de R$ {menor_salario:.2f}\")"
   ]
  },
  {
   "cell_type": "code",
   "execution_count": 30,
   "id": "cefbda71",
   "metadata": {},
   "outputs": [
    {
     "name": "stdout",
     "output_type": "stream",
     "text": [
      "O maior salário da empresa é de R$13800.90\n"
     ]
    }
   ],
   "source": [
    "maior_salario = df_rh[\"Salario\"].max()\n",
    "print(f\"O maior salário da empresa é de R${maior_salario:.2f}\")"
   ]
  },
  {
   "cell_type": "code",
   "execution_count": 32,
   "id": "0fd16e72",
   "metadata": {},
   "outputs": [
    {
     "name": "stdout",
     "output_type": "stream",
     "text": [
      "A mediana dos salários é de R$ 5275.62\n"
     ]
    }
   ],
   "source": [
    "mediana = df_rh[\"Salario\"].median()\n",
    "print(f\"A mediana dos salários é de R$ {mediana:.2f}\")"
   ]
  },
  {
   "cell_type": "code",
   "execution_count": null,
   "id": "2cefb79d",
   "metadata": {},
   "outputs": [],
   "source": []
  }
 ],
 "metadata": {
  "kernelspec": {
   "display_name": "Python 3",
   "language": "python",
   "name": "python3"
  },
  "language_info": {
   "codemirror_mode": {
    "name": "ipython",
    "version": 3
   },
   "file_extension": ".py",
   "mimetype": "text/x-python",
   "name": "python",
   "nbconvert_exporter": "python",
   "pygments_lexer": "ipython3",
   "version": "3.12.1"
  }
 },
 "nbformat": 4,
 "nbformat_minor": 5
}
