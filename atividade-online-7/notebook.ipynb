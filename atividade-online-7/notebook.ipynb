{
 "cells": [
  {
   "cell_type": "code",
   "execution_count": 22,
   "id": "09fd4f65",
   "metadata": {},
   "outputs": [
    {
     "name": "stdout",
     "output_type": "stream",
     "text": [
      "{'Ana': 8.5, 'Bruno': 6.0, 'Carla': 9.2, 'Diego': 5.8}\n",
      "Media da Turma é 7.38\n"
     ]
    }
   ],
   "source": [
    "\n",
    "# Exercicio 1\n",
    "with open('notas.txt', 'r') as file:\n",
    "    notas_alunos = {}\n",
    "    for line in file:\n",
    "        nome, nota = line.strip().split(',')\n",
    "        notas_alunos[nome] = float(nota)\n",
    "    print(notas_alunos)\n",
    "    media = sum(notas_alunos.values())/len(notas_alunos.values())\n",
    "    print(f\"Media da Turma é {media:.2f}\")"
   ]
  },
  {
   "cell_type": "code",
   "execution_count": 25,
   "id": "9da99a93",
   "metadata": {},
   "outputs": [],
   "source": [
    "# Exercicio 2\n",
    "with open('notas.txt', 'r') as file:\n",
    "    alunos_aprovados = []\n",
    "    for line in file:\n",
    "        nome, nota = line.strip().split(',')\n",
    "        if float(nota) >= 7:\n",
    "            alunos_aprovados.append(nome)\n",
    "    \n",
    "    with open('aprovados.txt', 'w') as file:\n",
    "        for aluno in alunos_aprovados:\n",
    "            file.write(aluno + '\\n')\n"
   ]
  },
  {
   "cell_type": "code",
   "execution_count": 41,
   "id": "776e5b57",
   "metadata": {},
   "outputs": [
    {
     "name": "stdout",
     "output_type": "stream",
     "text": [
      "Alice\n",
      "João\n"
     ]
    }
   ],
   "source": [
    "# exercicio 3\n",
    "import json\n",
    "\n",
    "dados = {\n",
    "    \"empresa\": \"TechCode\",\n",
    "    \"funcionarios\": [\n",
    "        {\"nome\": \"Alice\", \"idade\": 28, \"cargo\": \"Dev\"},\n",
    "        {\"nome\": \"Rafa\", \"idade\": 35, \"cargo\": \"Gerente\"},\n",
    "        {\"nome\": \"João\", \"idade\": 22, \"cargo\": \"Estagiário\"}\n",
    "    ]\n",
    "}\n",
    "\n",
    "with open('empresa.json', 'w') as file:\n",
    "    json.dump(dados, file, ensure_ascii=False, indent=4)\n",
    "\n",
    "with open('empresa.json', 'r') as file:\n",
    "    dados_empresa = json.load(file)\n",
    "\n",
    "    for func in dados_empresa['funcionarios']:\n",
    "        if func['idade'] < 30:\n",
    "            print(func['nome'])\n"
   ]
  },
  {
   "cell_type": "code",
   "execution_count": 44,
   "id": "85262855",
   "metadata": {},
   "outputs": [
    {
     "name": "stdout",
     "output_type": "stream",
     "text": [
      "[6, 10, 14, 18, 22]\n"
     ]
    }
   ],
   "source": [
    "# exercicio 4\n",
    "numeros = [3, 5, 7, 9, 11]\n",
    "\n",
    "dobro = list(map(lambda x: x*2, numeros))\n",
    "print(dobro)"
   ]
  },
  {
   "cell_type": "code",
   "execution_count": 47,
   "id": "86a81b8a",
   "metadata": {},
   "outputs": [
    {
     "name": "stdout",
     "output_type": "stream",
     "text": [
      "[22, 18, 30, 25]\n"
     ]
    }
   ],
   "source": [
    "# exercicio 5\n",
    "idades = [15, 22, 18, 30, 12, 25]\n",
    "\n",
    "maiores_de_idade = list(filter(lambda x: x >= 18, idades))\n",
    "print(maiores_de_idade)"
   ]
  },
  {
   "cell_type": "code",
   "execution_count": 51,
   "id": "8cfa98c8",
   "metadata": {},
   "outputs": [
    {
     "name": "stdout",
     "output_type": "stream",
     "text": [
      "[6, 3, 6, 6, 4, 4]\n",
      "['python', 'filter', 'lambda']\n",
      "['PYTHON', 'MAP', 'FILTER', 'LAMBDA', 'JSON', 'FILE']\n"
     ]
    }
   ],
   "source": [
    "#exercicio 6\n",
    "palavras = [\"python\", \"map\", \"filter\", \"lambda\", \"json\", \"file\"]\n",
    "\n",
    "tamanho_palavras = [len(palavra) for palavra in palavras]\n",
    "print(tamanho_palavras)\n",
    "\n",
    "palavras_maior_que_4 = [palavra for palavra in palavras if len(palavra) > 4]\n",
    "print(palavras_maior_que_4)\n",
    "\n",
    "upper_case_palavras = [palavra.upper() for palavra in palavras]\n",
    "print(upper_case_palavras)\n"
   ]
  }
 ],
 "metadata": {
  "kernelspec": {
   "display_name": "Python 3",
   "language": "python",
   "name": "python3"
  },
  "language_info": {
   "codemirror_mode": {
    "name": "ipython",
    "version": 3
   },
   "file_extension": ".py",
   "mimetype": "text/x-python",
   "name": "python",
   "nbconvert_exporter": "python",
   "pygments_lexer": "ipython3",
   "version": "3.12.1"
  }
 },
 "nbformat": 4,
 "nbformat_minor": 5
}
